{
 "cells": [
  {
   "cell_type": "code",
   "execution_count": 1,
   "metadata": {},
   "outputs": [],
   "source": [
    "'''\n",
    "\n",
    "主動推播的四種方式\n",
    "\n",
    "創建line bot api\n",
    "\n",
    "'''\n",
    "\n",
    "from linebot import LineBotApi\n",
    "\n",
    "import json\n",
    "secretFileContentJson=json.load(open(\"../line_secret_key\",'r',encoding=\"utf-8\"))\n",
    "\n",
    "# 生成實體物件\n",
    "line_bot_api = LineBotApi(secretFileContentJson.get(\"channel_access_token\"))\n",
    "\n"
   ]
  },
  {
   "cell_type": "code",
   "execution_count": 3,
   "metadata": {},
   "outputs": [],
   "source": [
    "'''\n",
    "一對一回復\n",
    "寫ID在內容\n",
    "\n",
    "'''\n",
    "\n",
    "from linebot.models import TextSendMessage\n",
    "\n",
    "line_bot_api.push_message('U7e6c303e8d5a6b4184c0225fafc51ea3', TextSendMessage(text='收到此消息，A'))\n",
    "\n",
    "line_bot_api.push_message('U7e6c303e8d5a6b4184c0225fafc51ea3', TextSendMessage(text='收到此消息，B'))\n",
    "\n",
    "line_bot_api.push_message('U7e6c303e8d5a6b4184c0225fafc51ea3', TextSendMessage(text='收到此消息，C'))"
   ]
  },
  {
   "cell_type": "code",
   "execution_count": 3,
   "metadata": {},
   "outputs": [
    {
     "data": {
      "text/plain": [
       "<linebot.models.responses.BroadcastResponse at 0x16ac1e2e908>"
      ]
     },
     "execution_count": 3,
     "metadata": {},
     "output_type": "execute_result"
    }
   ],
   "source": [
    "'''\n",
    "\n",
    "全部回復\n",
    "\n",
    "'''\n",
    "\n",
    "\n",
    "line_bot_api.broadcast(TextSendMessage(text='000000000000000000'))"
   ]
  },
  {
   "cell_type": "code",
   "execution_count": null,
   "metadata": {},
   "outputs": [],
   "source": [
    "'''\n",
    "Line提供的分眾推播\n",
    "Line_bot_api.narrocast()\n",
    "\n",
    "'''"
   ]
  },
  {
   "cell_type": "code",
   "execution_count": 12,
   "metadata": {},
   "outputs": [],
   "source": [
    "'''\n",
    "\n",
    "自定義的分眾推撥\n",
    "\n",
    "'''\n",
    "\n",
    "line_bot_api.multicast(['U94894b03e35db25b4a4abfe623d50475','U94894b03e35db25b4a4abfe623d50475'],TextSendMessage('結論.......?'))"
   ]
  },
  {
   "cell_type": "code",
   "execution_count": null,
   "metadata": {},
   "outputs": [],
   "source": []
  }
 ],
 "metadata": {
  "kernelspec": {
   "display_name": "Python 3",
   "language": "python",
   "name": "python3"
  },
  "language_info": {
   "codemirror_mode": {
    "name": "ipython",
    "version": 3
   },
   "file_extension": ".py",
   "mimetype": "text/x-python",
   "name": "python",
   "nbconvert_exporter": "python",
   "pygments_lexer": "ipython3",
   "version": "3.7.6"
  }
 },
 "nbformat": 4,
 "nbformat_minor": 4
}
